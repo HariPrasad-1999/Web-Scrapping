{
  "nbformat": 4,
  "nbformat_minor": 0,
  "metadata": {
    "colab": {
      "name": "Webscrapping from Car Dealership Website.ipynb",
      "provenance": []
    },
    "kernelspec": {
      "name": "python3",
      "display_name": "Python 3"
    },
    "language_info": {
      "name": "python"
    }
  },
  "cells": [
    {
      "cell_type": "code",
      "metadata": {
        "id": "7bUaqxWpBf_O"
      },
      "source": [
        "from bs4 import BeautifulSoup\n",
        "import requests\n",
        "import pandas as pd"
      ],
      "execution_count": null,
      "outputs": []
    },
    {
      "cell_type": "code",
      "metadata": {
        "id": "4ERkJ2nVE5WZ"
      },
      "source": [
        "website='https://www.cars.com/shopping/results/?stock_type=new&makes%5B%5D=mercedes_benz&models%5B%5D=&list_price_max=&maximum_distance=20&zip='"
      ],
      "execution_count": null,
      "outputs": []
    },
    {
      "cell_type": "code",
      "metadata": {
        "id": "L0YRGVJuE6Bn"
      },
      "source": [
        "response=requests.get(website)"
      ],
      "execution_count": null,
      "outputs": []
    },
    {
      "cell_type": "code",
      "metadata": {
        "id": "-oAG-38wE8OS"
      },
      "source": [
        "response.status_code"
      ],
      "execution_count": null,
      "outputs": []
    },
    {
      "cell_type": "code",
      "metadata": {
        "id": "xiQnkRa9FGnU"
      },
      "source": [
        "soup=BeautifulSoup(response.content,'html.parser')\n",
        "#print(soup)"
      ],
      "execution_count": null,
      "outputs": []
    },
    {
      "cell_type": "markdown",
      "metadata": {
        "id": "-L4eIojaFO8G"
      },
      "source": [
        "# **RESULTS**"
      ]
    },
    {
      "cell_type": "code",
      "metadata": {
        "id": "3U8K16q2FMlF"
      },
      "source": [
        "results = soup.find_all('div',{'class':'vehicle-card'})"
      ],
      "execution_count": null,
      "outputs": []
    },
    {
      "cell_type": "code",
      "metadata": {
        "id": "kUsjVsVaGwpR"
      },
      "source": [
        "len(results)"
      ],
      "execution_count": null,
      "outputs": []
    },
    {
      "cell_type": "code",
      "metadata": {
        "id": "OrAR_6KWHDdb"
      },
      "source": [
        "results[0]"
      ],
      "execution_count": null,
      "outputs": []
    },
    {
      "cell_type": "markdown",
      "metadata": {
        "id": "1JUb9qgKG49y"
      },
      "source": [
        "# **TARGET NECCESARY DATA**"
      ]
    },
    {
      "cell_type": "code",
      "metadata": {
        "id": "qODCH_14G7qe"
      },
      "source": [
        "# Name \n",
        "# Pricing\n",
        "# Car Dealing Company\n",
        "# Price\n",
        "# Ratings"
      ],
      "execution_count": null,
      "outputs": []
    },
    {
      "cell_type": "markdown",
      "metadata": {
        "id": "Jxo_W5ksIV5F"
      },
      "source": [
        "# **NAME**"
      ]
    },
    {
      "cell_type": "code",
      "metadata": {
        "id": "g11MWJKDG0jN"
      },
      "source": [
        "results[0].find('h2').get_text()"
      ],
      "execution_count": null,
      "outputs": []
    },
    {
      "cell_type": "markdown",
      "metadata": {
        "id": "GgGlyhzIPRJL"
      },
      "source": [
        "# **PRICING**"
      ]
    },
    {
      "cell_type": "code",
      "metadata": {
        "id": "AQ1hjF6SPS-M"
      },
      "source": [
        "results[0].find('span',{'class':'primary-price'}).get_text()"
      ],
      "execution_count": null,
      "outputs": []
    },
    {
      "cell_type": "markdown",
      "metadata": {
        "id": "wzonxIJXQbHO"
      },
      "source": [
        "# **CAR DEALING COMPANY**"
      ]
    },
    {
      "cell_type": "code",
      "metadata": {
        "id": "MbxZkb7eQZgY"
      },
      "source": [
        "results[0].find('div',{'class':'dealer-name'}).get_text()"
      ],
      "execution_count": null,
      "outputs": []
    },
    {
      "cell_type": "markdown",
      "metadata": {
        "id": "davWmCujJQ-U"
      },
      "source": [
        "# **RATINGS**"
      ]
    },
    {
      "cell_type": "code",
      "metadata": {
        "id": "S6QE06JCIa3x"
      },
      "source": [
        "results[0].find('span',{'class':'sds-rating__count'}).get_text()"
      ],
      "execution_count": null,
      "outputs": []
    },
    {
      "cell_type": "markdown",
      "metadata": {
        "id": "iRZ48jmOYE8M"
      },
      "source": [
        "# **RATINGS COUNT**"
      ]
    },
    {
      "cell_type": "code",
      "metadata": {
        "id": "wUOgiOpVJcu6"
      },
      "source": [
        "results[0].find('span',{'class':'sds-rating__link'}).get_text()"
      ],
      "execution_count": null,
      "outputs": []
    },
    {
      "cell_type": "markdown",
      "metadata": {
        "id": "48Cx7muzXyDT"
      },
      "source": [
        "# **PUT EVERYTHING TOGETHER INSIDE A FOR-LOOP**"
      ]
    },
    {
      "cell_type": "code",
      "metadata": {
        "id": "DV9VQ7KLNGZV"
      },
      "source": [
        "name=[]\n",
        "price=[]\n",
        "dealer_name=[]\n",
        "rating=[]\n",
        "review_count=[]\n",
        "\n",
        "\n",
        "\n",
        "for result in results:\n",
        "\n",
        "\n",
        "  # NAME\n",
        "  try:\n",
        "    name.append(result.find('h2').get_text())\n",
        "  except:\n",
        "    name.append('NA')  \n",
        "  \n",
        "  # PRICING\n",
        "  try:\n",
        "    price.append(result.find('span',{'class':'primary-price'}).get_text())\n",
        "  except:\n",
        "    price.append(0)\n",
        "\n",
        "  # CAR DEALING COMPANY\n",
        "  try:\n",
        "    dealer_name.append(result.find('div',{'class':'dealer-name'}).get_text().strip())\n",
        "  except:\n",
        "    dealer_name.append('NA')\n",
        "\n",
        "  # RATING\n",
        "  try:\n",
        "    rating.append(result.find('span',{'class':'sds-rating__link'}).get_text())\n",
        "  except:\n",
        "    rating.append(0)\n",
        "\n",
        "  # REVIEW COUNT\n",
        "  try:\n",
        "    review_count.append(result.find('span',{'class':'sds-rating__count'}).get_text())\n",
        "  except:\n",
        "    review_count.append(0)"
      ],
      "execution_count": null,
      "outputs": []
    },
    {
      "cell_type": "code",
      "metadata": {
        "id": "_Y4xZi6Mb34E"
      },
      "source": [
        "car_dealer = pd.DataFrame({'Name':name,'Price':price,'Dealer':dealer_name,'Rating':rating,'Review':review_count})\n",
        "car_dealer "
      ],
      "execution_count": null,
      "outputs": []
    },
    {
      "cell_type": "markdown",
      "metadata": {
        "id": "dVny0vVdlu75"
      },
      "source": [
        "#**DATA CLEANING**"
      ]
    },
    {
      "cell_type": "code",
      "metadata": {
        "id": "zqoxVMoCjlC0"
      },
      "source": [
        "car_dealer['Rating']=car_dealer['Rating'].apply(lambda x:x.strip('reviews)').strip('('))\n",
        "car_dealer"
      ],
      "execution_count": null,
      "outputs": []
    },
    {
      "cell_type": "code",
      "metadata": {
        "id": "1g8VXjt_nhmN"
      },
      "source": [
        "car_dealer.to_excel('Car_Dealer.xlsx',index=False)"
      ],
      "execution_count": null,
      "outputs": []
    },
    {
      "cell_type": "markdown",
      "metadata": {
        "id": "TjYxQ31Ls07D"
      },
      "source": [
        "# **PAGINATION 2**"
      ]
    },
    {
      "cell_type": "code",
      "metadata": {
        "id": "xeIDQqw0s0AG"
      },
      "source": [
        "name=[]\n",
        "price=[]\n",
        "dealer_name=[]\n",
        "rating=[]\n",
        "review_count=[]\n",
        "\n",
        "\n",
        "for i in range(1,11):\n",
        "  \n",
        "  # Website into a Variable\n",
        "  website=\"https://www.cars.com/shopping/results/?page=\" +str(i)+ \"&page_size=20&list_price_max=&makes[]=mercedes_benz&maximum_distance=20&models[]=&stock_type=new&zip=\"\n",
        "\n",
        "  # Request to Website\n",
        "  response=requests.get(website)\n",
        "\n",
        "  # SOUP Object\n",
        "  soup=BeautifulSoup(response.content,'html.parser')\n",
        "\n",
        "  #Results\n",
        "  results=soup.find_all('div',{'class':'vehicle-card'})\n",
        "  \n",
        "\n",
        "  for result in results:\n",
        "    # NAME\n",
        "    try:\n",
        "      name.append(result.find('h2').get_text())\n",
        "    except:\n",
        "      name.append('NA')  \n",
        "  \n",
        "    # PRICING\n",
        "    try:\n",
        "      price.append(result.find('span',{'class':'primary-price'}).get_text())\n",
        "    except:\n",
        "      price.append(0)\n",
        "\n",
        "    # CAR DEALING COMPANY\n",
        "    try:\n",
        "      dealer_name.append(result.find('div',{'class':'dealer-name'}).get_text().strip())\n",
        "    except:\n",
        "      dealer_name.append('NA')\n",
        "\n",
        "    # RATING\n",
        "    try:\n",
        "      rating.append(result.find('span',{'class':'sds-rating__link'}).get_text())\n",
        "    except:\n",
        "      rating.append('NA')\n",
        "\n",
        "    # REVIEW COUNT\n",
        "    try:\n",
        "      review_count.append(result.find('span',{'class':'sds-rating__count'}).get_text())\n",
        "    except:\n",
        "      review_count.append(0)"
      ],
      "execution_count": null,
      "outputs": []
    },
    {
      "cell_type": "code",
      "metadata": {
        "id": "l0VYsJfWzI9Z"
      },
      "source": [
        "car_dealer = pd.DataFrame({'Name':name,'Price':price,'Dealer':dealer_name,'Rating':rating,'Review':review_count})\n",
        "car_dealer "
      ],
      "execution_count": null,
      "outputs": []
    },
    {
      "cell_type": "code",
      "metadata": {
        "id": "cova-GiqvQIj"
      },
      "source": [
        "car_dealer['Rating']=car_dealer['Rating'].apply(lambda x:x.strip('reviews)').strip('('))\n",
        "car_dealer"
      ],
      "execution_count": null,
      "outputs": []
    },
    {
      "cell_type": "code",
      "metadata": {
        "id": "5ZHfm0MIvefK"
      },
      "source": [
        "car_dealer.to_excel('Car_Dealer.xlsx',index=False)"
      ],
      "execution_count": null,
      "outputs": []
    }
  ]
}